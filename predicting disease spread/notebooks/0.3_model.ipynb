{
 "cells": [
  {
   "cell_type": "code",
   "execution_count": 1,
   "id": "a52efe0e-4794-4db5-84ca-b43db913f342",
   "metadata": {
    "tags": []
   },
   "outputs": [],
   "source": [
    "import pandas as pd\n",
    "\n",
    "# Read data\n",
    "train = pd.read_csv('dengue_features_train.csv')\n",
    "test = pd.read_csv('dengue_features_test.csv')\n",
    "labels = pd.read_csv('dengue_labels_train.csv')"
   ]
  },
  {
   "cell_type": "markdown",
   "id": "ac36d2a4-5c50-42d4-99a5-7313ea004ce4",
   "metadata": {
    "tags": []
   },
   "source": [
    "# *Cleaning data*"
   ]
  },
  {
   "cell_type": "code",
   "execution_count": 2,
   "id": "77636fed-4d9a-43d4-8d15-19c6d4a27041",
   "metadata": {},
   "outputs": [],
   "source": [
    "# Convert week_start_date to datetime object\n",
    "train['week_start_date'] = pd.to_datetime(train['week_start_date'])"
   ]
  },
  {
   "cell_type": "code",
   "execution_count": 3,
   "id": "2e865a6e-fd3c-49e4-856b-7af1f839465a",
   "metadata": {},
   "outputs": [],
   "source": [
    "# Putting week_start_date to become index\n",
    "train.index = train['week_start_date']"
   ]
  },
  {
   "cell_type": "code",
   "execution_count": 4,
   "id": "b21d03bf-30f3-4fdd-988f-8a8b6640d72d",
   "metadata": {},
   "outputs": [],
   "source": [
    "# Splitting cities\n",
    "train_sj = train[train['city'] == 'sj'].copy()\n",
    "train_iq = train[train['city'] == 'iq'].copy()"
   ]
  },
  {
   "cell_type": "code",
   "execution_count": 5,
   "id": "a4014e55-4811-4d7c-bd8d-fbec175a74e7",
   "metadata": {},
   "outputs": [],
   "source": [
    "# Merging train and labels data\n",
    "train_sj = train_sj.merge(labels, on=['city', 'year', 'weekofyear'])"
   ]
  },
  {
   "cell_type": "code",
   "execution_count": 6,
   "id": "c1a6f76b-15c9-48e7-9b80-bb49ed1ba7f4",
   "metadata": {},
   "outputs": [],
   "source": [
    "# Setting datetime index\n",
    "train_sj.index = train_sj['week_start_date']"
   ]
  },
  {
   "cell_type": "code",
   "execution_count": 7,
   "id": "3f9b947a-e245-40ba-a057-c3b42ff76ac0",
   "metadata": {},
   "outputs": [],
   "source": [
    "# Merging train and labels data\n",
    "train_iq = train_iq.merge(labels, on=['city', 'year', 'weekofyear'])"
   ]
  },
  {
   "cell_type": "code",
   "execution_count": 8,
   "id": "fa8aceef-8572-4d53-ae6e-600242f735f7",
   "metadata": {},
   "outputs": [],
   "source": [
    "# Setting datetime index\n",
    "train_iq.index = train_iq['week_start_date']"
   ]
  },
  {
   "cell_type": "markdown",
   "id": "5939cbbd-a8f7-4ea9-b2b7-eaa8f5feb421",
   "metadata": {},
   "source": [
    "# *Imputing Nans*"
   ]
  },
  {
   "cell_type": "code",
   "execution_count": 9,
   "id": "836c788d-ac10-4ffa-97f9-08cd7635d684",
   "metadata": {},
   "outputs": [],
   "source": [
    "# Only columns with missing values\n",
    "nans_columns = train_sj.columns[4:]\n",
    "nans_columns_iq = train_iq.columns[4:]\n",
    "\n",
    "train_sj_nans = train_sj.drop(columns=['city', 'year', 'weekofyear', 'week_start_date']).copy()\n",
    "train_iq_nans = train_iq.drop(columns=['city', 'year', 'weekofyear', 'week_start_date']).copy()"
   ]
  },
  {
   "cell_type": "code",
   "execution_count": 10,
   "id": "5ffcd5c3-58b3-41c3-b99e-a9c37d55e0a2",
   "metadata": {},
   "outputs": [],
   "source": [
    "# Imputing with linear interpolation\n",
    "linear_sj = train_sj[nans_columns].interpolate(method='linear')\n",
    "linear_iq = train_iq_nans.interpolate(method='linear')"
   ]
  },
  {
   "cell_type": "markdown",
   "id": "3604b1f0-7a74-4984-9b26-4025442afc9b",
   "metadata": {},
   "source": [
    "# *Model*"
   ]
  },
  {
   "cell_type": "code",
   "execution_count": 11,
   "id": "5c8ef2ec-412c-467f-be79-6c3dc52094c8",
   "metadata": {},
   "outputs": [],
   "source": [
    "from sklearn.svm import SVR\n",
    "\n",
    "predictors = ['reanalysis_specific_humidity_g_per_kg', 'ndvi_nw']\n",
    "target = 'total_cases'\n",
    "\n",
    "# Splitting train and test data\n",
    "train_data = linear_sj.iloc[:-100].copy()\n",
    "test_data = linear_sj.iloc[-100:].copy()\n",
    "\n",
    "# Initializing model\n",
    "svm = SVR(kernel='linear',\n",
    "         C=20,\n",
    "         tol=17,\n",
    "         epsilon=0.05,\n",
    "         shrinking=True)\n",
    "\n",
    "svm.fit(train_data[predictors], train_data[target])\n",
    "preds = svm.predict(test_data[predictors])"
   ]
  },
  {
   "cell_type": "code",
   "execution_count": 12,
   "id": "092b9f09-0765-401f-8e3a-28fb676f83e8",
   "metadata": {},
   "outputs": [
    {
     "data": {
      "text/plain": [
       "16.03824675025699"
      ]
     },
     "execution_count": 12,
     "metadata": {},
     "output_type": "execute_result"
    }
   ],
   "source": [
    "from sklearn.metrics import mean_absolute_error\n",
    "\n",
    "# Measuring mean absolute error\n",
    "mean_absolute_error(test_data[target], preds)"
   ]
  },
  {
   "cell_type": "code",
   "execution_count": 13,
   "id": "3037f58a-fe21-40e6-9201-cc1c19aab43e",
   "metadata": {},
   "outputs": [
    {
     "data": {
      "text/plain": [
       "reanalysis_specific_humidity_g_per_kg     2.307929\n",
       "ndvi_nw                                  21.974422\n",
       "dtype: float64"
      ]
     },
     "execution_count": 13,
     "metadata": {},
     "output_type": "execute_result"
    }
   ],
   "source": [
    "# Feature correlation\n",
    "pd.Series(svm.coef_.flatten(), index=predictors).sort_values()"
   ]
  },
  {
   "cell_type": "markdown",
   "id": "b3c26e15-0d60-4d32-b32a-de8739d20924",
   "metadata": {},
   "source": [
    "# *Diagnostics*"
   ]
  },
  {
   "cell_type": "code",
   "execution_count": 14,
   "id": "3fb40a35-0de2-4d8e-b83e-0df03fc2131f",
   "metadata": {},
   "outputs": [],
   "source": [
    "# Concatenating actual values and predictions\n",
    "combined = pd.concat([test_data[target], pd.Series(preds, index=test_data.index)], axis=1)\n",
    "combined.columns = ['actual', 'predictions']"
   ]
  },
  {
   "cell_type": "code",
   "execution_count": 15,
   "id": "6fce7c4a-c2f4-472b-87a7-d28fa001e437",
   "metadata": {},
   "outputs": [
    {
     "data": {
      "text/html": [
       "<div>\n",
       "<style scoped>\n",
       "    .dataframe tbody tr th:only-of-type {\n",
       "        vertical-align: middle;\n",
       "    }\n",
       "\n",
       "    .dataframe tbody tr th {\n",
       "        vertical-align: top;\n",
       "    }\n",
       "\n",
       "    .dataframe thead th {\n",
       "        text-align: right;\n",
       "    }\n",
       "</style>\n",
       "<table border=\"1\" class=\"dataframe\">\n",
       "  <thead>\n",
       "    <tr style=\"text-align: right;\">\n",
       "      <th></th>\n",
       "      <th>actual</th>\n",
       "      <th>predictions</th>\n",
       "    </tr>\n",
       "    <tr>\n",
       "      <th>week_start_date</th>\n",
       "      <th></th>\n",
       "      <th></th>\n",
       "    </tr>\n",
       "  </thead>\n",
       "  <tbody>\n",
       "    <tr>\n",
       "      <th>2006-05-28</th>\n",
       "      <td>11</td>\n",
       "      <td>15.183352</td>\n",
       "    </tr>\n",
       "    <tr>\n",
       "      <th>2006-06-04</th>\n",
       "      <td>5</td>\n",
       "      <td>16.959857</td>\n",
       "    </tr>\n",
       "    <tr>\n",
       "      <th>2006-06-11</th>\n",
       "      <td>5</td>\n",
       "      <td>16.941836</td>\n",
       "    </tr>\n",
       "    <tr>\n",
       "      <th>2006-06-18</th>\n",
       "      <td>6</td>\n",
       "      <td>16.107004</td>\n",
       "    </tr>\n",
       "    <tr>\n",
       "      <th>2006-06-25</th>\n",
       "      <td>6</td>\n",
       "      <td>19.012578</td>\n",
       "    </tr>\n",
       "    <tr>\n",
       "      <th>...</th>\n",
       "      <td>...</td>\n",
       "      <td>...</td>\n",
       "    </tr>\n",
       "    <tr>\n",
       "      <th>2008-03-25</th>\n",
       "      <td>4</td>\n",
       "      <td>6.932336</td>\n",
       "    </tr>\n",
       "    <tr>\n",
       "      <th>2008-04-01</th>\n",
       "      <td>3</td>\n",
       "      <td>9.790003</td>\n",
       "    </tr>\n",
       "    <tr>\n",
       "      <th>2008-04-08</th>\n",
       "      <td>1</td>\n",
       "      <td>7.896247</td>\n",
       "    </tr>\n",
       "    <tr>\n",
       "      <th>2008-04-15</th>\n",
       "      <td>3</td>\n",
       "      <td>7.610196</td>\n",
       "    </tr>\n",
       "    <tr>\n",
       "      <th>2008-04-22</th>\n",
       "      <td>5</td>\n",
       "      <td>12.259816</td>\n",
       "    </tr>\n",
       "  </tbody>\n",
       "</table>\n",
       "<p>100 rows × 2 columns</p>\n",
       "</div>"
      ],
      "text/plain": [
       "                 actual  predictions\n",
       "week_start_date                     \n",
       "2006-05-28           11    15.183352\n",
       "2006-06-04            5    16.959857\n",
       "2006-06-11            5    16.941836\n",
       "2006-06-18            6    16.107004\n",
       "2006-06-25            6    19.012578\n",
       "...                 ...          ...\n",
       "2008-03-25            4     6.932336\n",
       "2008-04-01            3     9.790003\n",
       "2008-04-08            1     7.896247\n",
       "2008-04-15            3     7.610196\n",
       "2008-04-22            5    12.259816\n",
       "\n",
       "[100 rows x 2 columns]"
      ]
     },
     "execution_count": 15,
     "metadata": {},
     "output_type": "execute_result"
    }
   ],
   "source": [
    "combined"
   ]
  },
  {
   "cell_type": "code",
   "execution_count": 16,
   "id": "9efedc37-9256-418e-a753-c1c6aa8fb2dd",
   "metadata": {},
   "outputs": [
    {
     "data": {
      "text/plain": [
       "Text(0.5, 1.0, 'SJ city')"
      ]
     },
     "execution_count": 16,
     "metadata": {},
     "output_type": "execute_result"
    },
    {
     "data": {
      "image/png": "[encoded data removed]",
      "text/plain": [
       "<Figure size 640x480 with 1 Axes>"
      ]
     },
     "metadata": {},
     "output_type": "display_data"
    }
   ],
   "source": [
    "import matplotlib.pyplot as plt\n",
    "\n",
    "# Plotting actual vs predictions\n",
    "combined.reset_index().drop(columns=['week_start_date']).plot()\n",
    "plt.title('SJ city')"
   ]
  },
  {
   "cell_type": "code",
   "execution_count": 17,
   "id": "f49cc55c-355d-48fb-b442-d3b3d8aa1947",
   "metadata": {},
   "outputs": [],
   "source": [
    "from sklearn.svm import SVR\n",
    "\n",
    "predictors = linear_iq.columns[:-1]\n",
    "target = 'total_cases'\n",
    "\n",
    "# Splitting train and test data\n",
    "train_data_iq = linear_iq.iloc[:-100].copy()\n",
    "test_data_iq = linear_iq.iloc[-100:].copy()\n",
    "\n",
    "# Initializing model\n",
    "svm = SVR(kernel='linear',\n",
    "         C=20,\n",
    "         tol=17,\n",
    "         epsilon=0.05,\n",
    "         shrinking=True)\n",
    "\n",
    "svm.fit(train_data_iq[predictors], train_data_iq[target])\n",
    "preds_iq = svm.predict(test_data_iq[predictors])"
   ]
  },
  {
   "cell_type": "code",
   "execution_count": 18,
   "id": "3629591a-2ed1-49fa-95f3-5ab36359c799",
   "metadata": {},
   "outputs": [
    {
     "data": {
      "text/plain": [
       "8.240593995825657"
      ]
     },
     "execution_count": 18,
     "metadata": {},
     "output_type": "execute_result"
    }
   ],
   "source": [
    "# Measuring mean absolute error\n",
    "mean_absolute_error(test_data_iq[target], preds_iq)"
   ]
  },
  {
   "cell_type": "markdown",
   "id": "b0c158e2-47b2-4028-a70b-4cbe2f6fcdbe",
   "metadata": {},
   "source": [
    "# *Diagnostics for IQ*"
   ]
  },
  {
   "cell_type": "code",
   "execution_count": 19,
   "id": "44cc7446-c2cb-4a3c-a128-3d8a438f9336",
   "metadata": {},
   "outputs": [],
   "source": [
    "# Concatenating actual values and predictions\n",
    "combined_iq = pd.concat([test_data_iq[target], pd.Series(preds_iq, index=test_data_iq.index)], axis=1)\n",
    "combined_iq.columns = ['actual', 'predictions']"
   ]
  },
  {
   "cell_type": "code",
   "execution_count": 20,
   "id": "809387a3-11fc-47c7-889d-9cf7051f448d",
   "metadata": {},
   "outputs": [
    {
     "data": {
      "text/html": [
       "<div>\n",
       "<style scoped>\n",
       "    .dataframe tbody tr th:only-of-type {\n",
       "        vertical-align: middle;\n",
       "    }\n",
       "\n",
       "    .dataframe tbody tr th {\n",
       "        vertical-align: top;\n",
       "    }\n",
       "\n",
       "    .dataframe thead th {\n",
       "        text-align: right;\n",
       "    }\n",
       "</style>\n",
       "<table border=\"1\" class=\"dataframe\">\n",
       "  <thead>\n",
       "    <tr style=\"text-align: right;\">\n",
       "      <th></th>\n",
       "      <th>actual</th>\n",
       "      <th>predictions</th>\n",
       "    </tr>\n",
       "    <tr>\n",
       "      <th>week_start_date</th>\n",
       "      <th></th>\n",
       "      <th></th>\n",
       "    </tr>\n",
       "  </thead>\n",
       "  <tbody>\n",
       "    <tr>\n",
       "      <th>2008-07-29</th>\n",
       "      <td>5</td>\n",
       "      <td>0.756806</td>\n",
       "    </tr>\n",
       "    <tr>\n",
       "      <th>2008-08-05</th>\n",
       "      <td>2</td>\n",
       "      <td>1.104052</td>\n",
       "    </tr>\n",
       "    <tr>\n",
       "      <th>2008-08-12</th>\n",
       "      <td>5</td>\n",
       "      <td>0.099507</td>\n",
       "    </tr>\n",
       "    <tr>\n",
       "      <th>2008-08-19</th>\n",
       "      <td>5</td>\n",
       "      <td>-1.737626</td>\n",
       "    </tr>\n",
       "    <tr>\n",
       "      <th>2008-08-26</th>\n",
       "      <td>5</td>\n",
       "      <td>1.167556</td>\n",
       "    </tr>\n",
       "    <tr>\n",
       "      <th>...</th>\n",
       "      <td>...</td>\n",
       "      <td>...</td>\n",
       "    </tr>\n",
       "    <tr>\n",
       "      <th>2010-05-28</th>\n",
       "      <td>5</td>\n",
       "      <td>2.394515</td>\n",
       "    </tr>\n",
       "    <tr>\n",
       "      <th>2010-06-04</th>\n",
       "      <td>8</td>\n",
       "      <td>1.314144</td>\n",
       "    </tr>\n",
       "    <tr>\n",
       "      <th>2010-06-11</th>\n",
       "      <td>1</td>\n",
       "      <td>-0.500755</td>\n",
       "    </tr>\n",
       "    <tr>\n",
       "      <th>2010-06-18</th>\n",
       "      <td>1</td>\n",
       "      <td>1.661707</td>\n",
       "    </tr>\n",
       "    <tr>\n",
       "      <th>2010-06-25</th>\n",
       "      <td>4</td>\n",
       "      <td>3.307873</td>\n",
       "    </tr>\n",
       "  </tbody>\n",
       "</table>\n",
       "<p>100 rows × 2 columns</p>\n",
       "</div>"
      ],
      "text/plain": [
       "                 actual  predictions\n",
       "week_start_date                     \n",
       "2008-07-29            5     0.756806\n",
       "2008-08-05            2     1.104052\n",
       "2008-08-12            5     0.099507\n",
       "2008-08-19            5    -1.737626\n",
       "2008-08-26            5     1.167556\n",
       "...                 ...          ...\n",
       "2010-05-28            5     2.394515\n",
       "2010-06-04            8     1.314144\n",
       "2010-06-11            1    -0.500755\n",
       "2010-06-18            1     1.661707\n",
       "2010-06-25            4     3.307873\n",
       "\n",
       "[100 rows x 2 columns]"
      ]
     },
     "execution_count": 20,
     "metadata": {},
     "output_type": "execute_result"
    }
   ],
   "source": [
    "combined_iq"
   ]
  },
  {
   "cell_type": "code",
   "execution_count": 21,
   "id": "8e704bf7-f72d-45a1-8c3a-c48c4cf5cfab",
   "metadata": {},
   "outputs": [
    {
     "data": {
      "text/plain": [
       "Text(0.5, 1.0, 'IQ city')"
      ]
     },
     "execution_count": 21,
     "metadata": {},
     "output_type": "execute_result"
    },
    {
     "data": {
      "image/png": "[encoded data removed]",
      "text/plain": [
       "<Figure size 640x480 with 1 Axes>"
      ]
     },
     "metadata": {},
     "output_type": "display_data"
    }
   ],
   "source": [
    "# Plotting actual vs predictions\n",
    "combined.reset_index().drop(columns=['week_start_date']).plot()\n",
    "plt.title('IQ city')"
   ]
  }
 ],
 "metadata": {
  "kernelspec": {
   "display_name": "Python 3 (ipykernel)",
   "language": "python",
   "name": "python3"
  },
  "language_info": {
   "codemirror_mode": {
    "name": "ipython",
    "version": 3
   },
   "file_extension": ".py",
   "mimetype": "text/x-python",
   "name": "python",
   "nbconvert_exporter": "python",
   "pygments_lexer": "ipython3",
   "version": "3.8.13"
  }
 },
 "nbformat": 4,
 "nbformat_minor": 5
}
