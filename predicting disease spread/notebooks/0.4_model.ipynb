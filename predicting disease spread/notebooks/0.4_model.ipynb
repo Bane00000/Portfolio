{
 "cells": [
  {
   "cell_type": "code",
   "execution_count": 1,
   "id": "059becc4-e257-4e28-bf21-27d4bdfac5b7",
   "metadata": {
    "tags": []
   },
   "outputs": [],
   "source": [
    "import pandas as pd\n",
    "\n",
    "# Read data\n",
    "train = pd.read_csv('dengue_features_train.csv')\n",
    "test = pd.read_csv('dengue_features_test.csv')\n",
    "labels = pd.read_csv('dengue_labels_train.csv')"
   ]
  },
  {
   "cell_type": "markdown",
   "id": "4a55e5e6-0b5a-43a4-9722-0d23b8e05034",
   "metadata": {
    "tags": []
   },
   "source": [
    "# *Cleaning data*"
   ]
  },
  {
   "cell_type": "code",
   "execution_count": 2,
   "id": "d3a88f94-f939-48a0-89b8-e887b297eebd",
   "metadata": {},
   "outputs": [],
   "source": [
    "# Convert week_start_date to datetime object\n",
    "train['week_start_date'] = pd.to_datetime(train['week_start_date'])"
   ]
  },
  {
   "cell_type": "code",
   "execution_count": 3,
   "id": "142d0a32-6500-4f5c-ace5-64cbdfdc701e",
   "metadata": {},
   "outputs": [],
   "source": [
    "# Putting week_start_date to become index\n",
    "train.index = train['week_start_date']"
   ]
  },
  {
   "cell_type": "code",
   "execution_count": 4,
   "id": "bb471805-729d-4578-9e24-06415d051e6e",
   "metadata": {},
   "outputs": [],
   "source": [
    "# Splitting cities\n",
    "train_sj = train[train['city'] == 'sj'].copy()\n",
    "train_iq = train[train['city'] == 'iq'].copy()"
   ]
  },
  {
   "cell_type": "code",
   "execution_count": 5,
   "id": "80eb8977-8aad-43e2-943f-82d14f5545e4",
   "metadata": {},
   "outputs": [],
   "source": [
    "# Merging train and labels data\n",
    "train_sj = train_sj.merge(labels, on=['city', 'year', 'weekofyear'])"
   ]
  },
  {
   "cell_type": "code",
   "execution_count": 6,
   "id": "d23c8c4a-34db-4d9e-8b4f-f69e9de2193b",
   "metadata": {},
   "outputs": [],
   "source": [
    "# Setting datetime index\n",
    "train_sj.index = train_sj['week_start_date']"
   ]
  },
  {
   "cell_type": "markdown",
   "id": "980d6652-5978-45b3-9cf5-6d662ea33c02",
   "metadata": {},
   "source": [
    "# *Imputing Nans*"
   ]
  },
  {
   "cell_type": "code",
   "execution_count": 7,
   "id": "21000397-a0e2-4a91-af37-fea1845dd166",
   "metadata": {},
   "outputs": [],
   "source": [
    "# Only columns with missing values\n",
    "nans_columns = train_sj.columns[4:]"
   ]
  },
  {
   "cell_type": "code",
   "execution_count": 8,
   "id": "2dde6f32-8401-46f6-b1e3-a5d9f7dc9266",
   "metadata": {},
   "outputs": [],
   "source": [
    "# Imputing with linear interpolation\n",
    "linear_sj = train_sj[nans_columns].interpolate(method='linear')"
   ]
  },
  {
   "cell_type": "markdown",
   "id": "ebf56460-827b-40c8-babd-d01f376c7421",
   "metadata": {},
   "source": [
    "# Training the model in two parts\n",
    "\n",
    "The data for sj city is split in two parts, values with high target value, and values with low target value. I've split them like this:\n",
    "- One with a target value above 300, and another one lower than 100."
   ]
  },
  {
   "cell_type": "code",
   "execution_count": 20,
   "id": "f393cac4-1ec3-4373-899f-e71473d359f2",
   "metadata": {},
   "outputs": [],
   "source": [
    "target = 'total_cases'\n",
    "\n",
    "# Splitting data to high and low target values\n",
    "data_high_value = linear_sj.loc[linear_sj[target] > 300].copy() # 11 rows\n",
    "data_low_value = linear_sj.loc[linear_sj[target] < 100].copy() # 880 rows"
   ]
  },
  {
   "cell_type": "code",
   "execution_count": 25,
   "id": "719b6270-3ead-4e9d-8df2-a6ffeb189242",
   "metadata": {},
   "outputs": [],
   "source": [
    "train_data_low = data_low_value.iloc[:-100].copy()\n",
    "test_data_low = data_low_value.iloc[-100:].copy()"
   ]
  },
  {
   "cell_type": "markdown",
   "id": "b17b00ff-0a3f-492e-b6f2-0853b99fede2",
   "metadata": {},
   "source": [
    "# *Low target value*"
   ]
  },
  {
   "cell_type": "code",
   "execution_count": 11,
   "id": "4ee0793e-7cad-4c4e-89f1-707362c30f34",
   "metadata": {},
   "outputs": [
    {
     "data": {
      "text/plain": [
       "11.678084266350707"
      ]
     },
     "execution_count": 11,
     "metadata": {},
     "output_type": "execute_result"
    }
   ],
   "source": [
    "from sklearn.svm import SVR\n",
    "from sklearn.metrics import mean_absolute_error\n",
    "\n",
    "predictors = linear_sj.columns[:-1]\n",
    "target = 'total_cases'\n",
    "\n",
    "# Initializing model\n",
    "svm = SVR(kernel='linear',\n",
    "         C=10,\n",
    "         tol=0.01,\n",
    "         epsilon=0.04,\n",
    "         shrinking=True)\n",
    "\n",
    "svm.fit(train_data_low[predictors], train_data_low[target])\n",
    "preds = svm.predict(test_data_low[predictors])\n",
    "\n",
    "# Measuring mean absolute error\n",
    "mean_absolute_error(test_data_low[target], preds)"
   ]
  },
  {
   "cell_type": "markdown",
   "id": "b0d01f23-2070-415a-8e8e-7434fe4dd889",
   "metadata": {},
   "source": [
    "With using only data with cases lower than 100, we've removed 11 rows, which in total we now have 869"
   ]
  },
  {
   "cell_type": "markdown",
   "id": "a9c1e58d-7c5c-4fd9-bda1-bf7675f86a78",
   "metadata": {},
   "source": [
    "# *Low target value with scaling*"
   ]
  },
  {
   "cell_type": "code",
   "execution_count": 12,
   "id": "208bcf8d-e1a9-47d1-971f-76aa8d2275ac",
   "metadata": {},
   "outputs": [
    {
     "data": {
      "text/plain": [
       "10.924578645305846"
      ]
     },
     "execution_count": 12,
     "metadata": {},
     "output_type": "execute_result"
    }
   ],
   "source": [
    "from sklearn.preprocessing import MinMaxScaler\n",
    "from sklearn.pipeline import Pipeline\n",
    "\n",
    "minmax = MinMaxScaler()\n",
    "\n",
    "steps = [('minmax', minmax),('estimator', svm)]\n",
    "pipeline = Pipeline(steps=steps)\n",
    "\n",
    "pipeline.fit(train_data_low[predictors], train_data_low[target])\n",
    "preds = pipeline.predict(test_data_low[predictors])\n",
    "mean_absolute_error(test_data_low[target], preds)"
   ]
  },
  {
   "cell_type": "markdown",
   "id": "9f47f54c-a5c9-4e44-aa05-f224f026bbc6",
   "metadata": {},
   "source": [
    "# *Diagnostics*"
   ]
  },
  {
   "cell_type": "code",
   "execution_count": 13,
   "id": "48252904-cb6a-4b46-9373-acf31a3d7b07",
   "metadata": {},
   "outputs": [
    {
     "data": {
      "text/html": [
       "<div>\n",
       "<style scoped>\n",
       "    .dataframe tbody tr th:only-of-type {\n",
       "        vertical-align: middle;\n",
       "    }\n",
       "\n",
       "    .dataframe tbody tr th {\n",
       "        vertical-align: top;\n",
       "    }\n",
       "\n",
       "    .dataframe thead th {\n",
       "        text-align: right;\n",
       "    }\n",
       "</style>\n",
       "<table border=\"1\" class=\"dataframe\">\n",
       "  <thead>\n",
       "    <tr style=\"text-align: right;\">\n",
       "      <th></th>\n",
       "      <th>actual</th>\n",
       "      <th>predictions</th>\n",
       "    </tr>\n",
       "    <tr>\n",
       "      <th>week_start_date</th>\n",
       "      <th></th>\n",
       "      <th></th>\n",
       "    </tr>\n",
       "  </thead>\n",
       "  <tbody>\n",
       "    <tr>\n",
       "      <th>2006-04-16</th>\n",
       "      <td>3</td>\n",
       "      <td>11.770854</td>\n",
       "    </tr>\n",
       "    <tr>\n",
       "      <th>2006-04-23</th>\n",
       "      <td>3</td>\n",
       "      <td>7.916063</td>\n",
       "    </tr>\n",
       "    <tr>\n",
       "      <th>2006-04-30</th>\n",
       "      <td>3</td>\n",
       "      <td>12.319342</td>\n",
       "    </tr>\n",
       "    <tr>\n",
       "      <th>2006-05-07</th>\n",
       "      <td>7</td>\n",
       "      <td>13.232779</td>\n",
       "    </tr>\n",
       "    <tr>\n",
       "      <th>2006-05-14</th>\n",
       "      <td>3</td>\n",
       "      <td>10.614792</td>\n",
       "    </tr>\n",
       "    <tr>\n",
       "      <th>...</th>\n",
       "      <td>...</td>\n",
       "      <td>...</td>\n",
       "    </tr>\n",
       "    <tr>\n",
       "      <th>2008-03-25</th>\n",
       "      <td>4</td>\n",
       "      <td>4.008550</td>\n",
       "    </tr>\n",
       "    <tr>\n",
       "      <th>2008-04-01</th>\n",
       "      <td>3</td>\n",
       "      <td>9.298763</td>\n",
       "    </tr>\n",
       "    <tr>\n",
       "      <th>2008-04-08</th>\n",
       "      <td>1</td>\n",
       "      <td>11.871967</td>\n",
       "    </tr>\n",
       "    <tr>\n",
       "      <th>2008-04-15</th>\n",
       "      <td>3</td>\n",
       "      <td>6.228333</td>\n",
       "    </tr>\n",
       "    <tr>\n",
       "      <th>2008-04-22</th>\n",
       "      <td>5</td>\n",
       "      <td>5.057616</td>\n",
       "    </tr>\n",
       "  </tbody>\n",
       "</table>\n",
       "<p>100 rows × 2 columns</p>\n",
       "</div>"
      ],
      "text/plain": [
       "                 actual  predictions\n",
       "week_start_date                     \n",
       "2006-04-16            3    11.770854\n",
       "2006-04-23            3     7.916063\n",
       "2006-04-30            3    12.319342\n",
       "2006-05-07            7    13.232779\n",
       "2006-05-14            3    10.614792\n",
       "...                 ...          ...\n",
       "2008-03-25            4     4.008550\n",
       "2008-04-01            3     9.298763\n",
       "2008-04-08            1    11.871967\n",
       "2008-04-15            3     6.228333\n",
       "2008-04-22            5     5.057616\n",
       "\n",
       "[100 rows x 2 columns]"
      ]
     },
     "execution_count": 13,
     "metadata": {},
     "output_type": "execute_result"
    }
   ],
   "source": [
    "# Concatenating actual values and predictions\n",
    "combined = pd.concat([test_data_low[target], pd.Series(preds, index=test_data_low.index)], axis=1)\n",
    "combined.columns = ['actual', 'predictions']\n",
    "combined"
   ]
  },
  {
   "cell_type": "markdown",
   "id": "0cc70a3d-a77b-41da-8044-cf2c1d55115c",
   "metadata": {},
   "source": [
    "Most definitely we are getting higher predictions thanks to outliers."
   ]
  },
  {
   "cell_type": "code",
   "execution_count": 21,
   "id": "7e13adef-a156-4056-9916-91dab5c11548",
   "metadata": {},
   "outputs": [
    {
     "name": "stdout",
     "output_type": "stream",
     "text": [
      "                 actual  predictions\n",
      "week_start_date                     \n",
      "2006-04-16            3    11.770854\n",
      "2006-04-23            3     7.916063\n",
      "2006-04-30            3    12.319342\n",
      "2006-05-07            7    13.232779\n",
      "2006-05-14            3    10.614792\n",
      "...                 ...          ...\n",
      "2008-03-25            4     4.008550\n",
      "2008-04-01            3     9.298763\n",
      "2008-04-08            1    11.871967\n",
      "2008-04-15            3     6.228333\n",
      "2008-04-22            5     5.057616\n",
      "\n",
      "[100 rows x 2 columns]\n"
     ]
    },
    {
     "data": {
      "text/plain": [
       "<AxesSubplot:>"
      ]
     },
     "execution_count": 21,
     "metadata": {},
     "output_type": "execute_result"
    },
    {
     "data": {
      "image/png": "[encoded data removed]",
      "text/plain": [
       "<Figure size 640x480 with 1 Axes>"
      ]
     },
     "metadata": {},
     "output_type": "display_data"
    }
   ],
   "source": [
    "# Concatenating actual values and predictions\n",
    "combined = pd.concat([test_data_low[target], pd.Series(preds, index=test_data_low.index)], axis=1)\n",
    "combined.columns = ['actual', 'predictions']\n",
    "print(combined)\n",
    "\n",
    "# Plotting actual vs predictions\n",
    "combined.reset_index().drop(columns=['week_start_date']).plot()"
   ]
  },
  {
   "cell_type": "markdown",
   "id": "67a35b88-6def-416d-9197-d50986df4653",
   "metadata": {
    "tags": []
   },
   "source": [
    "# *Removing outliers by formula*\n",
    "https://www.askpython.com/python/examples/detection-removal-outliers-in-python"
   ]
  },
  {
   "cell_type": "code",
   "execution_count": 15,
   "id": "ade73151-bd21-4921-a503-0249148e35a9",
   "metadata": {},
   "outputs": [],
   "source": [
    "import numpy as np\n",
    "\n",
    "for x in ['total_cases']:\n",
    "    q75, q25 = np.percentile(linear_sj.loc[:,x].copy(), [75,25])\n",
    "    intr_qr = q75-q25\n",
    " \n",
    "    max = q75+(1.5*intr_qr)\n",
    "    min = q25-(1.5*intr_qr)\n",
    " \n",
    "    linear_sj.loc[linear_sj[x] < min,x] = np.nan\n",
    "    linear_sj.loc[linear_sj[x] > max,x] = np.nan"
   ]
  },
  {
   "cell_type": "code",
   "execution_count": 16,
   "id": "0cfec75e-043e-4bf6-afe3-1410c8444131",
   "metadata": {},
   "outputs": [],
   "source": [
    "linear_sj.dropna(subset=['total_cases'], inplace=True)"
   ]
  },
  {
   "cell_type": "code",
   "execution_count": 26,
   "id": "0b427ded-5a6e-4f47-8750-863d35ab7ebd",
   "metadata": {},
   "outputs": [
    {
     "data": {
      "text/plain": [
       "10.504656426340668"
      ]
     },
     "execution_count": 26,
     "metadata": {},
     "output_type": "execute_result"
    }
   ],
   "source": [
    "# Splitting train and test data\n",
    "train_data_outliers = linear_sj.iloc[:-100].copy()\n",
    "test_data_outliers = linear_sj.iloc[-100:].copy()\n",
    "\n",
    "# Pipeline\n",
    "pipeline = Pipeline(steps=steps)\n",
    "pipeline.fit(train_data_outliers[predictors], train_data_outliers[target])\n",
    "preds = pipeline.predict(test_data_outliers[predictors])\n",
    "mean_absolute_error(test_data_outliers[target], preds)"
   ]
  }
 ],
 "metadata": {
  "kernelspec": {
   "display_name": "Python 3 (ipykernel)",
   "language": "python",
   "name": "python3"
  },
  "language_info": {
   "codemirror_mode": {
    "name": "ipython",
    "version": 3
   },
   "file_extension": ".py",
   "mimetype": "text/x-python",
   "name": "python",
   "nbconvert_exporter": "python",
   "pygments_lexer": "ipython3",
   "version": "3.8.13"
  }
 },
 "nbformat": 4,
 "nbformat_minor": 5
}
